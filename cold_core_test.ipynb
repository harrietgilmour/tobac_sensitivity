{
 "cells": [
  {
   "cell_type": "code",
   "execution_count": 5,
   "metadata": {},
   "outputs": [],
   "source": [
    "import iris\n",
    "import numpy as np\n",
    "import pandas as pd\n",
    "import matplotlib.pyplot as plt\n",
    "import iris.quickplot as qplt\n",
    "import iris.plot as iplt\n",
    "import datetime\n",
    "import shutil\n",
    "from six.moves import urllib\n",
    "from pathlib import Path\n",
    "import trackpy\n",
    "from iris.time import PartialDateTime\n",
    "\n",
    "import tobac #tobac package cloned from https://github.com/tobac-project/tobac.git\n",
    "\n",
    "import warnings\n",
    "warnings.filterwarnings('ignore', category=UserWarning, append=True)\n",
    "warnings.filterwarnings('ignore', category=RuntimeWarning, append=True)\n",
    "warnings.filterwarnings('ignore', category=FutureWarning, append=True)\n",
    "warnings.filterwarnings('ignore', category=pd.io.pytables.PerformanceWarning)"
   ]
  },
  {
   "cell_type": "code",
   "execution_count": 6,
   "metadata": {},
   "outputs": [],
   "source": [
    "Track = pd.read_hdf('Save/cold_core/Track.h5','table')"
   ]
  },
  {
   "cell_type": "code",
   "execution_count": 7,
   "metadata": {},
   "outputs": [
    {
     "name": "stdout",
     "output_type": "stream",
     "text": [
      "556   unique cloud cells in month Jan 2005. Features: 11424\n"
     ]
    }
   ],
   "source": [
    "print(np.unique(Track.cell.values).shape[0], '  unique cloud cells in month Jan 2005. Features:', Track.shape[0])"
   ]
  },
  {
   "cell_type": "code",
   "execution_count": 8,
   "metadata": {},
   "outputs": [
    {
     "name": "stdout",
     "output_type": "stream",
     "text": [
      "556\n"
     ]
    }
   ],
   "source": [
    "print(len(Track['cell'].dropna().unique()))"
   ]
  },
  {
   "cell_type": "code",
   "execution_count": 9,
   "metadata": {},
   "outputs": [],
   "source": [
    "cold_core=[225,210,200,190]"
   ]
  },
  {
   "cell_type": "code",
   "execution_count": 10,
   "metadata": {},
   "outputs": [],
   "source": [
    "for i in np.unique(Track.cell.values):\n",
    "    subset = Track[Track.cell == i]\n",
    "    for i in cold_core:\n",
    "        if subset[subset.threshold_value <=i].shape[0] == 0:\n",
    "            Track.drop(Track.loc[Track['cell']== i].index, inplace=True)\n",
    "            Track.to_hdf('Save/cold_core/Track_coldcore_{0}.h5'.format(i), 'table')\n",
    "        "
   ]
  },
  {
   "cell_type": "code",
   "execution_count": null,
   "metadata": {},
   "outputs": [],
   "source": [
    "print(np.unique(Track.cell.values).shape[0], '  unique cloud cells in month Jan 2005. Features:', Track.shape[0])"
   ]
  },
  {
   "cell_type": "code",
   "execution_count": null,
   "metadata": {},
   "outputs": [],
   "source": [
    "Track_225 = pd.read_hdf('Save/cold_core/Track_coldcore_225.h5','table')\n",
    "Track_210 = pd.read_hdf('Save/cold_core/Track_coldcore_210.h5','table')\n",
    "Track_200 = pd.read_hdf('Save/cold_core/Track_coldcore_200.h5','table')\n",
    "Track_190 = pd.read_hdf('Save/cold_core/Track_coldcore_190.h5','table')\n"
   ]
  },
  {
   "cell_type": "code",
   "execution_count": null,
   "metadata": {},
   "outputs": [],
   "source": [
    "import cartopy.crs as ccrs\n",
    "axis_extent=[-80,-30,-35,12]\n",
    "\n",
    "#loop for each timestep:\n",
    "plt.figure()\n",
    "\n",
    "fig_map,ax_map=plt.subplots(figsize=(30,28),subplot_kw={'projection': ccrs.PlateCarree()})\n",
    "ax_map.set_extent([-85,-30,-40,10])\n",
    "plt.plot(Track_225['longitude'],Track_225['latitude'], '-',linewidth=5,color='k')\n",
    "plt.plot(Track_190['longitude'],Track_225['latitude'], '-',linewidth=5,color='k')\n",
    "plt.xticks([-80,-70,-60,-50,-40,-30],fontsize=30)\n",
    "plt.yticks([-40,-30,-20,-10,0,10],fontsize=30)\n",
    "plt.gca().coastlines()\n",
    "plt.xlabel('Lon $^\\circ$E', fontsize=40)\n",
    "plt.ylabel('Lat $^\\circ$N', fontsize=40)"
   ]
  },
  {
   "cell_type": "code",
   "execution_count": null,
   "metadata": {},
   "outputs": [],
   "source": []
  }
 ],
 "metadata": {
  "kernelspec": {
   "display_name": "myclone",
   "language": "python",
   "name": "python3"
  },
  "language_info": {
   "codemirror_mode": {
    "name": "ipython",
    "version": 3
   },
   "file_extension": ".py",
   "mimetype": "text/x-python",
   "name": "python",
   "nbconvert_exporter": "python",
   "pygments_lexer": "ipython3",
   "version": "3.9.13"
  },
  "orig_nbformat": 4
 },
 "nbformat": 4,
 "nbformat_minor": 2
}
