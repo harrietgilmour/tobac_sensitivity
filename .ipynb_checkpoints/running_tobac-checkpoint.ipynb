{
 "cells": [
  {
   "cell_type": "code",
   "execution_count": 1,
   "metadata": {},
   "outputs": [],
   "source": [
    "# Import the relevant modules\n",
    "import iris\n",
    "import numpy as np\n",
    "import pandas as pd\n",
    "import matplotlib.pyplot as plt\n",
    "import iris.quickplot as qplt\n",
    "import iris.plot as iplt\n",
    "import datetime\n",
    "import shutil\n",
    "from six.moves import urllib\n",
    "from pathlib import Path\n",
    "from math import pi\n",
    "import trackpy\n",
    "from iris.time import PartialDateTime\n",
    "import tobac\n",
    "import warnings"
   ]
  },
  {
   "cell_type": "code",
   "execution_count": 2,
   "metadata": {},
   "outputs": [],
   "source": [
    "# Import the libraries\n",
    "import functions\n",
    "import dictionaries"
   ]
  },
  {
   "cell_type": "code",
   "execution_count": 3,
   "metadata": {},
   "outputs": [],
   "source": [
    "# Set up the warning messages\n",
    "warnings.filterwarnings('ignore', category=UserWarning, append=True)\n",
    "warnings.filterwarnings('ignore', category=RuntimeWarning, append=True)\n",
    "warnings.filterwarnings('ignore', category=FutureWarning, append=True)\n",
    "warnings.filterwarnings('ignore', category=pd.io.pytables.PerformanceWarning)"
   ]
  },
  {
   "cell_type": "code",
   "execution_count": 4,
   "metadata": {},
   "outputs": [],
   "source": [
    "# Load the olr and precip data\n",
    "olr, time_olr, datetimes_olr, con_olr = functions.load_olr_data(dictionaries.data_file)\n",
    "\n",
    "# Load the precip data\n",
    "precip, time_precip, datetimes_precip, con_precip = functions.load_precip_data(dictionaries.precip)"
   ]
  },
  {
   "cell_type": "code",
   "execution_count": 5,
   "metadata": {},
   "outputs": [],
   "source": [
    "# Set up the directory to save the data\n",
    "savedir, plot_dir = functions.setup_directories()"
   ]
  },
  {
   "cell_type": "code",
   "execution_count": 6,
   "metadata": {},
   "outputs": [],
   "source": [
    "# Extract longitude and latitude\n",
    "longitude,latitude=np.meshgrid(olr.coord('longitude').points,olr.coord('latitude').points)\n",
    "\n",
    "# Calculate dxy\n",
    "dxy, dt = functions.calculate_dxy(longitude, latitude, olr)"
   ]
  },
  {
   "cell_type": "code",
   "execution_count": 7,
   "metadata": {},
   "outputs": [
    {
     "ename": "MemoryError",
     "evalue": "Unable to allocate 2.32 GiB for an array with shape (336, 1360, 1360) and data type float32",
     "output_type": "error",
     "traceback": [
      "\u001b[0;31m---------------------------------------------------------------------------\u001b[0m",
      "\u001b[0;31mMemoryError\u001b[0m                               Traceback (most recent call last)",
      "\u001b[1;32m/data/users/hgilmour/tracking/code/tobac_sensitivity/running_tobac.ipynb Cell 7\u001b[0m in \u001b[0;36m2\n\u001b[1;32m      <a href='vscode-notebook-cell:/data/users/hgilmour/tracking/code/tobac_sensitivity/running_tobac.ipynb#X22sZmlsZQ%3D%3D?line=0'>1</a>\u001b[0m \u001b[39m# Calculate brightness temperatures\u001b[39;00m\n\u001b[0;32m----> <a href='vscode-notebook-cell:/data/users/hgilmour/tracking/code/tobac_sensitivity/running_tobac.ipynb#X22sZmlsZQ%3D%3D?line=1'>2</a>\u001b[0m tf, tb_var, tb \u001b[39m=\u001b[39m functions\u001b[39m.\u001b[39;49mcalculate_temperatures(dictionaries\u001b[39m.\u001b[39;49ma, dictionaries\u001b[39m.\u001b[39;49mb, dictionaries\u001b[39m.\u001b[39;49msigma, olr)\n",
      "File \u001b[0;32m/net/data/users/hgilmour/tracking/code/tobac_sensitivity/functions.py:110\u001b[0m, in \u001b[0;36mcalculate_temperatures\u001b[0;34m(a, b, sigma, olr)\u001b[0m\n\u001b[1;32m     95\u001b[0m \u001b[39mdef\u001b[39;00m \u001b[39mcalculate_temperatures\u001b[39m(a, b, sigma, olr):\n\u001b[1;32m     96\u001b[0m     \u001b[39m\"\"\"\u001b[39;00m\n\u001b[1;32m     97\u001b[0m \u001b[39m    Calculates the temperatures of the input data.\u001b[39;00m\n\u001b[1;32m     98\u001b[0m \u001b[39m    \u001b[39;00m\n\u001b[0;32m   (...)\u001b[0m\n\u001b[1;32m    108\u001b[0m \u001b[39m    iris.cube.Cube: The tb of the input data.\u001b[39;00m\n\u001b[1;32m    109\u001b[0m \u001b[39m    \"\"\"\u001b[39;00m\n\u001b[0;32m--> 110\u001b[0m     tf \u001b[39m=\u001b[39m (olr\u001b[39m.\u001b[39;49mdata\u001b[39m/\u001b[39;49msigma)\u001b[39m*\u001b[39m\u001b[39m*\u001b[39m(\u001b[39m0.25\u001b[39m)\n\u001b[1;32m    111\u001b[0m     tb_var \u001b[39m=\u001b[39m (\u001b[39m-\u001b[39ma \u001b[39m+\u001b[39m np\u001b[39m.\u001b[39msqrt(a\u001b[39m*\u001b[39m\u001b[39m*\u001b[39m\u001b[39m2\u001b[39m \u001b[39m+\u001b[39m \u001b[39m4\u001b[39m\u001b[39m*\u001b[39mb\u001b[39m*\u001b[39mtf\u001b[39m.\u001b[39mdata))\u001b[39m/\u001b[39m(\u001b[39m2\u001b[39m\u001b[39m*\u001b[39mb)\n\u001b[1;32m    113\u001b[0m     tb \u001b[39m=\u001b[39m olr\u001b[39m.\u001b[39mcopy()\n",
      "File \u001b[0;32m~/.conda/envs/myclone/lib/python3.9/site-packages/numpy/ma/core.py:4242\u001b[0m, in \u001b[0;36mMaskedArray.__truediv__\u001b[0;34m(self, other)\u001b[0m\n\u001b[1;32m   4240\u001b[0m \u001b[39mif\u001b[39;00m \u001b[39mself\u001b[39m\u001b[39m.\u001b[39m_delegate_binop(other):\n\u001b[1;32m   4241\u001b[0m     \u001b[39mreturn\u001b[39;00m \u001b[39mNotImplemented\u001b[39m\n\u001b[0;32m-> 4242\u001b[0m \u001b[39mreturn\u001b[39;00m true_divide(\u001b[39mself\u001b[39;49m, other)\n",
      "File \u001b[0;32m~/.conda/envs/myclone/lib/python3.9/site-packages/numpy/ma/core.py:1164\u001b[0m, in \u001b[0;36m_DomainedBinaryOperation.__call__\u001b[0;34m(self, a, b, *args, **kwargs)\u001b[0m\n\u001b[1;32m   1162\u001b[0m domain \u001b[39m=\u001b[39m ufunc_domain\u001b[39m.\u001b[39mget(\u001b[39mself\u001b[39m\u001b[39m.\u001b[39mf, \u001b[39mNone\u001b[39;00m)\n\u001b[1;32m   1163\u001b[0m \u001b[39mif\u001b[39;00m domain \u001b[39mis\u001b[39;00m \u001b[39mnot\u001b[39;00m \u001b[39mNone\u001b[39;00m:\n\u001b[0;32m-> 1164\u001b[0m     m \u001b[39m|\u001b[39m\u001b[39m=\u001b[39m domain(da, db)\n\u001b[1;32m   1165\u001b[0m \u001b[39m# Take care of the scalar case first\u001b[39;00m\n\u001b[1;32m   1166\u001b[0m \u001b[39mif\u001b[39;00m \u001b[39mnot\u001b[39;00m m\u001b[39m.\u001b[39mndim:\n",
      "File \u001b[0;32m~/.conda/envs/myclone/lib/python3.9/site-packages/numpy/ma/core.py:851\u001b[0m, in \u001b[0;36m_DomainSafeDivide.__call__\u001b[0;34m(self, a, b)\u001b[0m\n\u001b[1;32m    849\u001b[0m a, b \u001b[39m=\u001b[39m np\u001b[39m.\u001b[39masarray(a), np\u001b[39m.\u001b[39masarray(b)\n\u001b[1;32m    850\u001b[0m \u001b[39mwith\u001b[39;00m np\u001b[39m.\u001b[39merrstate(invalid\u001b[39m=\u001b[39m\u001b[39m'\u001b[39m\u001b[39mignore\u001b[39m\u001b[39m'\u001b[39m):\n\u001b[0;32m--> 851\u001b[0m     \u001b[39mreturn\u001b[39;00m umath\u001b[39m.\u001b[39;49mabsolute(a) \u001b[39m*\u001b[39m \u001b[39mself\u001b[39m\u001b[39m.\u001b[39mtolerance \u001b[39m>\u001b[39m\u001b[39m=\u001b[39m umath\u001b[39m.\u001b[39mabsolute(b)\n",
      "\u001b[0;31mMemoryError\u001b[0m: Unable to allocate 2.32 GiB for an array with shape (336, 1360, 1360) and data type float32"
     ]
    }
   ],
   "source": [
    "# Calculate brightness temperatures\n",
    "tf, tb_var, tb = functions.calculate_temperatures(dictionaries.a, dictionaries.b, dictionaries.sigma, olr)"
   ]
  },
  {
   "cell_type": "code",
   "execution_count": null,
   "metadata": {},
   "outputs": [],
   "source": [
    "# Set up the parameters dictionaries\n",
    "# features parameters\n",
    "parameters_features = functions.setup_parameters_features(dictionaries.position_threshold, dictionaries.sigma_threshold, dictionaries.target, dictionaries.threshold, dictionaries.n_min_threshold)\n",
    "\n",
    "# segmentation parameters\n",
    "parameters_segmentation = functions.setup_parameters_segmentation(dictionaries.target, dictionaries.method, dictionaries.threshold)\n",
    "\n",
    "# linking parameters\n",
    "parameters_linking = functions.setup_parameters_linking(dictionaries.n_min_threshold, dictionaries.stubs, dictionaries.order, dictionaries.extrapolate, dictionaries.memory, dictionaries.adaptive_stop, dictionaries.adaptive_step, dictionaries.subnetwork_size, dictionaries.method_linking)"
   ]
  },
  {
   "cell_type": "code",
   "execution_count": null,
   "metadata": {},
   "outputs": [
    {
     "name": "stdout",
     "output_type": "stream",
     "text": [
      "Values of threshold to be tested:  [225, 230, 235, 240, 241, 245]\n"
     ]
    },
    {
     "ename": "KeyboardInterrupt",
     "evalue": "",
     "output_type": "error",
     "traceback": [
      "\u001b[0;31m---------------------------------------------------------------------------\u001b[0m",
      "\u001b[0;31mKeyboardInterrupt\u001b[0m                         Traceback (most recent call last)",
      "\u001b[1;32m/data/users/hgilmour/tracking/code/tobac_sensitivity/running_tobac.ipynb Cell 9\u001b[0m in \u001b[0;36m6\n\u001b[1;32m      <a href='vscode-notebook-cell:/data/users/hgilmour/tracking/code/tobac_sensitivity/running_tobac.ipynb#X10sZmlsZQ%3D%3D?line=2'>3</a>\u001b[0m threshold_values\u001b[39m=\u001b[39mdictionaries\u001b[39m.\u001b[39mthreshold_values\n\u001b[1;32m      <a href='vscode-notebook-cell:/data/users/hgilmour/tracking/code/tobac_sensitivity/running_tobac.ipynb#X10sZmlsZQ%3D%3D?line=4'>5</a>\u001b[0m \u001b[39m# Call the sensitivity analysis function\u001b[39;00m\n\u001b[0;32m----> <a href='vscode-notebook-cell:/data/users/hgilmour/tracking/code/tobac_sensitivity/running_tobac.ipynb#X10sZmlsZQ%3D%3D?line=5'>6</a>\u001b[0m functions\u001b[39m.\u001b[39;49mperform_sensitivity_analysis(tb, savedir, parameters_features, parameters_segmentation, parameters_linking, threshold_values)\n",
      "File \u001b[0;32m/net/data/users/hgilmour/tracking/code/tobac_sensitivity/functions.py:407\u001b[0m, in \u001b[0;36mperform_sensitivity_analysis\u001b[0;34m(tb, savedir, parameters_features, parameters_segmentation, parameters_linking, threshold_values)\u001b[0m\n\u001b[1;32m    404\u001b[0m dxy, dt \u001b[39m=\u001b[39m tobac\u001b[39m.\u001b[39mget_spacings(tb, grid_spacing\u001b[39m=\u001b[39m\u001b[39m4500\u001b[39m, time_spacing\u001b[39m=\u001b[39m\u001b[39m3600\u001b[39m)\n\u001b[1;32m    406\u001b[0m \u001b[39m# Feature detection:\u001b[39;00m\n\u001b[0;32m--> 407\u001b[0m Features \u001b[39m=\u001b[39m tobac\u001b[39m.\u001b[39;49mfeature_detection_multithreshold(tb, dxy\u001b[39m=\u001b[39;49mcalculate_dxy,\u001b[39m*\u001b[39;49m\u001b[39m*\u001b[39;49mparameters_features)\n\u001b[1;32m    409\u001b[0m \u001b[39m# Segmentation:\u001b[39;00m\n\u001b[1;32m    410\u001b[0m Mask_tb, Features_tb \u001b[39m=\u001b[39m tobac\u001b[39m.\u001b[39msegmentation_2D(Features, tb, dxy,\u001b[39m*\u001b[39m\u001b[39m*\u001b[39mparameters_segmentation)\n",
      "File \u001b[0;32m~/.local/lib/python3.9/site-packages/tobac/feature_detection.py:659\u001b[0m, in \u001b[0;36mfeature_detection_multithreshold\u001b[0;34m(field_in, dxy, threshold, min_num, target, position_threshold, sigma_threshold, n_erosion_threshold, n_min_threshold, min_distance, feature_number_start, wavelength_filtering)\u001b[0m\n\u001b[1;32m    657\u001b[0m \u001b[39mfor\u001b[39;00m i_time, data_i \u001b[39min\u001b[39;00m \u001b[39menumerate\u001b[39m(data_time):\n\u001b[1;32m    658\u001b[0m     time_i \u001b[39m=\u001b[39m data_i\u001b[39m.\u001b[39mcoord(\u001b[39m\"\u001b[39m\u001b[39mtime\u001b[39m\u001b[39m\"\u001b[39m)\u001b[39m.\u001b[39munits\u001b[39m.\u001b[39mnum2date(data_i\u001b[39m.\u001b[39mcoord(\u001b[39m\"\u001b[39m\u001b[39mtime\u001b[39m\u001b[39m\"\u001b[39m)\u001b[39m.\u001b[39mpoints[\u001b[39m0\u001b[39m])\n\u001b[0;32m--> 659\u001b[0m     features_thresholds \u001b[39m=\u001b[39m feature_detection_multithreshold_timestep(\n\u001b[1;32m    660\u001b[0m         data_i,\n\u001b[1;32m    661\u001b[0m         i_time,\n\u001b[1;32m    662\u001b[0m         threshold\u001b[39m=\u001b[39;49mthreshold,\n\u001b[1;32m    663\u001b[0m         sigma_threshold\u001b[39m=\u001b[39;49msigma_threshold,\n\u001b[1;32m    664\u001b[0m         min_num\u001b[39m=\u001b[39;49mmin_num,\n\u001b[1;32m    665\u001b[0m         target\u001b[39m=\u001b[39;49mtarget,\n\u001b[1;32m    666\u001b[0m         position_threshold\u001b[39m=\u001b[39;49mposition_threshold,\n\u001b[1;32m    667\u001b[0m         n_erosion_threshold\u001b[39m=\u001b[39;49mn_erosion_threshold,\n\u001b[1;32m    668\u001b[0m         n_min_threshold\u001b[39m=\u001b[39;49mn_min_threshold,\n\u001b[1;32m    669\u001b[0m         min_distance\u001b[39m=\u001b[39;49mmin_distance,\n\u001b[1;32m    670\u001b[0m         feature_number_start\u001b[39m=\u001b[39;49mfeature_number_start,\n\u001b[1;32m    671\u001b[0m         dxy\u001b[39m=\u001b[39;49mdxy,\n\u001b[1;32m    672\u001b[0m         wavelength_filtering\u001b[39m=\u001b[39;49mwavelength_filtering,\n\u001b[1;32m    673\u001b[0m     )\n\u001b[1;32m    674\u001b[0m     \u001b[39m# check if list of features is not empty, then merge features from different threshold values\u001b[39;00m\n\u001b[1;32m    675\u001b[0m     \u001b[39m# into one DataFrame and append to list for individual timesteps:\u001b[39;00m\n\u001b[1;32m    676\u001b[0m     \u001b[39mif\u001b[39;00m \u001b[39mnot\u001b[39;00m features_thresholds\u001b[39m.\u001b[39mempty:\n\u001b[1;32m    677\u001b[0m         \u001b[39m# Loop over DataFrame to remove features that are closer than distance_min to each other:\u001b[39;00m\n",
      "File \u001b[0;32m~/.local/lib/python3.9/site-packages/tobac/feature_detection.py:483\u001b[0m, in \u001b[0;36mfeature_detection_multithreshold_timestep\u001b[0;34m(data_i, i_time, threshold, min_num, target, position_threshold, sigma_threshold, n_erosion_threshold, n_min_threshold, min_distance, feature_number_start, dxy, wavelength_filtering)\u001b[0m\n\u001b[1;32m    476\u001b[0m     warnings\u001b[39m.\u001b[39mwarn(\n\u001b[1;32m    477\u001b[0m         \u001b[39m\"\u001b[39m\u001b[39mmin_num parameter has no effect and will be deprecated in a future version of tobac. Please use n_min_threshold instead\u001b[39m\u001b[39m\"\u001b[39m,\n\u001b[1;32m    478\u001b[0m         \u001b[39mFutureWarning\u001b[39;00m,\n\u001b[1;32m    479\u001b[0m     )\n\u001b[1;32m    481\u001b[0m track_data \u001b[39m=\u001b[39m data_i\u001b[39m.\u001b[39mcore_data()\n\u001b[0;32m--> 483\u001b[0m track_data \u001b[39m=\u001b[39m gaussian_filter(\n\u001b[1;32m    484\u001b[0m     track_data, sigma\u001b[39m=\u001b[39;49msigma_threshold\n\u001b[1;32m    485\u001b[0m )  \u001b[39m# smooth data slightly to create rounded, continuous field\u001b[39;00m\n\u001b[1;32m    487\u001b[0m \u001b[39m# spectrally filter the input data, if desired\u001b[39;00m\n\u001b[1;32m    488\u001b[0m \u001b[39mif\u001b[39;00m wavelength_filtering \u001b[39mis\u001b[39;00m \u001b[39mnot\u001b[39;00m \u001b[39mNone\u001b[39;00m:\n",
      "File \u001b[0;32m~/.conda/envs/myclone/lib/python3.9/site-packages/scipy/ndimage/_filters.py:342\u001b[0m, in \u001b[0;36mgaussian_filter\u001b[0;34m(input, sigma, order, output, mode, cval, truncate)\u001b[0m\n\u001b[1;32m    340\u001b[0m \u001b[39mif\u001b[39;00m \u001b[39mlen\u001b[39m(axes) \u001b[39m>\u001b[39m \u001b[39m0\u001b[39m:\n\u001b[1;32m    341\u001b[0m     \u001b[39mfor\u001b[39;00m axis, sigma, order, mode \u001b[39min\u001b[39;00m axes:\n\u001b[0;32m--> 342\u001b[0m         gaussian_filter1d(\u001b[39minput\u001b[39;49m, sigma, axis, order, output,\n\u001b[1;32m    343\u001b[0m                           mode, cval, truncate)\n\u001b[1;32m    344\u001b[0m         \u001b[39minput\u001b[39m \u001b[39m=\u001b[39m output\n\u001b[1;32m    345\u001b[0m \u001b[39melse\u001b[39;00m:\n",
      "File \u001b[0;32m~/.conda/envs/myclone/lib/python3.9/site-packages/scipy/ndimage/_filters.py:261\u001b[0m, in \u001b[0;36mgaussian_filter1d\u001b[0;34m(input, sigma, axis, order, output, mode, cval, truncate)\u001b[0m\n\u001b[1;32m    259\u001b[0m \u001b[39m# Since we are calling correlate, not convolve, revert the kernel\u001b[39;00m\n\u001b[1;32m    260\u001b[0m weights \u001b[39m=\u001b[39m _gaussian_kernel1d(sigma, order, lw)[::\u001b[39m-\u001b[39m\u001b[39m1\u001b[39m]\n\u001b[0;32m--> 261\u001b[0m \u001b[39mreturn\u001b[39;00m correlate1d(\u001b[39minput\u001b[39;49m, weights, axis, output, mode, cval, \u001b[39m0\u001b[39;49m)\n",
      "File \u001b[0;32m~/.conda/envs/myclone/lib/python3.9/site-packages/scipy/ndimage/_filters.py:133\u001b[0m, in \u001b[0;36mcorrelate1d\u001b[0;34m(input, weights, axis, output, mode, cval, origin)\u001b[0m\n\u001b[1;32m    129\u001b[0m     \u001b[39mraise\u001b[39;00m \u001b[39mValueError\u001b[39;00m(\u001b[39m'\u001b[39m\u001b[39mInvalid origin; origin must satisfy \u001b[39m\u001b[39m'\u001b[39m\n\u001b[1;32m    130\u001b[0m                      \u001b[39m'\u001b[39m\u001b[39m-(len(weights) // 2) <= origin <= \u001b[39m\u001b[39m'\u001b[39m\n\u001b[1;32m    131\u001b[0m                      \u001b[39m'\u001b[39m\u001b[39m(len(weights)-1) // 2\u001b[39m\u001b[39m'\u001b[39m)\n\u001b[1;32m    132\u001b[0m mode \u001b[39m=\u001b[39m _ni_support\u001b[39m.\u001b[39m_extend_mode_to_code(mode)\n\u001b[0;32m--> 133\u001b[0m _nd_image\u001b[39m.\u001b[39;49mcorrelate1d(\u001b[39minput\u001b[39;49m, weights, axis, output, mode, cval,\n\u001b[1;32m    134\u001b[0m                       origin)\n\u001b[1;32m    135\u001b[0m \u001b[39mreturn\u001b[39;00m output\n",
      "\u001b[0;31mKeyboardInterrupt\u001b[0m: "
     ]
    }
   ],
   "source": [
    "# Now perform the sensitivity analysis\n",
    "print(\"Values of threshold to be tested: \", dictionaries.threshold_values)\n",
    "threshold_values=dictionaries.threshold_values\n",
    "\n",
    "# Call the sensitivity analysis function\n",
    "functions.perform_sensitivity_analysis(tb, savedir, parameters_features, parameters_segmentation, parameters_linking, threshold_values)"
   ]
  },
  {
   "cell_type": "code",
   "execution_count": null,
   "metadata": {},
   "outputs": [],
   "source": [
    "df = pd.read_csv('Save/sensitivity_analysis_singleTb_Jan1998.csv')"
   ]
  },
  {
   "cell_type": "code",
   "execution_count": null,
   "metadata": {},
   "outputs": [
    {
     "data": {
      "text/html": [
       "<div>\n",
       "<style scoped>\n",
       "    .dataframe tbody tr th:only-of-type {\n",
       "        vertical-align: middle;\n",
       "    }\n",
       "\n",
       "    .dataframe tbody tr th {\n",
       "        vertical-align: top;\n",
       "    }\n",
       "\n",
       "    .dataframe thead th {\n",
       "        text-align: right;\n",
       "    }\n",
       "</style>\n",
       "<table border=\"1\" class=\"dataframe\">\n",
       "  <thead>\n",
       "    <tr style=\"text-align: right;\">\n",
       "      <th></th>\n",
       "      <th>num_features</th>\n",
       "      <th>mean_area</th>\n",
       "      <th>max_area</th>\n",
       "      <th>min_area</th>\n",
       "      <th>num_tracks</th>\n",
       "      <th>mean_lifetime</th>\n",
       "      <th>max_lifetime</th>\n",
       "      <th>min_lifetime</th>\n",
       "      <th>mean_velocity</th>\n",
       "      <th>max_velocity</th>\n",
       "      <th>min_velocity</th>\n",
       "      <th>threshold</th>\n",
       "    </tr>\n",
       "  </thead>\n",
       "  <tbody>\n",
       "    <tr>\n",
       "      <th>0</th>\n",
       "      <td>1168</td>\n",
       "      <td>114968.187048</td>\n",
       "      <td>419604.419118</td>\n",
       "      <td>50546.892857</td>\n",
       "      <td>59</td>\n",
       "      <td>17.450000</td>\n",
       "      <td>167.0</td>\n",
       "      <td>6.0</td>\n",
       "      <td>67.813484</td>\n",
       "      <td>359.396480</td>\n",
       "      <td>9.957067</td>\n",
       "      <td>225</td>\n",
       "    </tr>\n",
       "    <tr>\n",
       "      <th>1</th>\n",
       "      <td>1492</td>\n",
       "      <td>132761.427659</td>\n",
       "      <td>361453.500000</td>\n",
       "      <td>47110.178571</td>\n",
       "      <td>78</td>\n",
       "      <td>16.481013</td>\n",
       "      <td>167.0</td>\n",
       "      <td>6.0</td>\n",
       "      <td>73.663365</td>\n",
       "      <td>544.014331</td>\n",
       "      <td>4.420877</td>\n",
       "      <td>230</td>\n",
       "    </tr>\n",
       "    <tr>\n",
       "      <th>2</th>\n",
       "      <td>1743</td>\n",
       "      <td>161337.833131</td>\n",
       "      <td>530319.411290</td>\n",
       "      <td>52812.000000</td>\n",
       "      <td>72</td>\n",
       "      <td>21.150685</td>\n",
       "      <td>167.0</td>\n",
       "      <td>6.0</td>\n",
       "      <td>61.400873</td>\n",
       "      <td>434.406131</td>\n",
       "      <td>9.169440</td>\n",
       "      <td>235</td>\n",
       "    </tr>\n",
       "    <tr>\n",
       "      <th>3</th>\n",
       "      <td>1893</td>\n",
       "      <td>170085.476854</td>\n",
       "      <td>584622.900000</td>\n",
       "      <td>54270.000000</td>\n",
       "      <td>92</td>\n",
       "      <td>18.064516</td>\n",
       "      <td>167.0</td>\n",
       "      <td>6.0</td>\n",
       "      <td>70.797331</td>\n",
       "      <td>519.651622</td>\n",
       "      <td>5.974548</td>\n",
       "      <td>240</td>\n",
       "    </tr>\n",
       "    <tr>\n",
       "      <th>4</th>\n",
       "      <td>1911</td>\n",
       "      <td>183807.393236</td>\n",
       "      <td>668346.576923</td>\n",
       "      <td>61324.788462</td>\n",
       "      <td>92</td>\n",
       "      <td>18.376344</td>\n",
       "      <td>167.0</td>\n",
       "      <td>6.0</td>\n",
       "      <td>61.961410</td>\n",
       "      <td>491.517101</td>\n",
       "      <td>4.010133</td>\n",
       "      <td>241</td>\n",
       "    </tr>\n",
       "    <tr>\n",
       "      <th>5</th>\n",
       "      <td>1979</td>\n",
       "      <td>221536.870027</td>\n",
       "      <td>883783.990385</td>\n",
       "      <td>55360.968750</td>\n",
       "      <td>85</td>\n",
       "      <td>19.930233</td>\n",
       "      <td>167.0</td>\n",
       "      <td>6.0</td>\n",
       "      <td>71.756596</td>\n",
       "      <td>607.547827</td>\n",
       "      <td>6.185504</td>\n",
       "      <td>245</td>\n",
       "    </tr>\n",
       "  </tbody>\n",
       "</table>\n",
       "</div>"
      ],
      "text/plain": [
       "   num_features      mean_area       max_area      min_area  num_tracks  \\\n",
       "0          1168  114968.187048  419604.419118  50546.892857          59   \n",
       "1          1492  132761.427659  361453.500000  47110.178571          78   \n",
       "2          1743  161337.833131  530319.411290  52812.000000          72   \n",
       "3          1893  170085.476854  584622.900000  54270.000000          92   \n",
       "4          1911  183807.393236  668346.576923  61324.788462          92   \n",
       "5          1979  221536.870027  883783.990385  55360.968750          85   \n",
       "\n",
       "   mean_lifetime  max_lifetime  min_lifetime  mean_velocity  max_velocity  \\\n",
       "0      17.450000         167.0           6.0      67.813484    359.396480   \n",
       "1      16.481013         167.0           6.0      73.663365    544.014331   \n",
       "2      21.150685         167.0           6.0      61.400873    434.406131   \n",
       "3      18.064516         167.0           6.0      70.797331    519.651622   \n",
       "4      18.376344         167.0           6.0      61.961410    491.517101   \n",
       "5      19.930233         167.0           6.0      71.756596    607.547827   \n",
       "\n",
       "   min_velocity  threshold  \n",
       "0      9.957067        225  \n",
       "1      4.420877        230  \n",
       "2      9.169440        235  \n",
       "3      5.974548        240  \n",
       "4      4.010133        241  \n",
       "5      6.185504        245  "
      ]
     },
     "execution_count": 18,
     "metadata": {},
     "output_type": "execute_result"
    }
   ],
   "source": [
    "df"
   ]
  },
  {
   "cell_type": "code",
   "execution_count": null,
   "metadata": {},
   "outputs": [
    {
     "ename": "KeyError",
     "evalue": "'n_min_threshold'",
     "output_type": "error",
     "traceback": [
      "\u001b[0;31m---------------------------------------------------------------------------\u001b[0m",
      "\u001b[0;31mKeyError\u001b[0m                                  Traceback (most recent call last)",
      "File \u001b[0;32m~/.conda/envs/myclone/lib/python3.9/site-packages/pandas/core/indexes/base.py:3803\u001b[0m, in \u001b[0;36mIndex.get_loc\u001b[0;34m(self, key, method, tolerance)\u001b[0m\n\u001b[1;32m   3802\u001b[0m \u001b[39mtry\u001b[39;00m:\n\u001b[0;32m-> 3803\u001b[0m     \u001b[39mreturn\u001b[39;00m \u001b[39mself\u001b[39;49m\u001b[39m.\u001b[39;49m_engine\u001b[39m.\u001b[39;49mget_loc(casted_key)\n\u001b[1;32m   3804\u001b[0m \u001b[39mexcept\u001b[39;00m \u001b[39mKeyError\u001b[39;00m \u001b[39mas\u001b[39;00m err:\n",
      "File \u001b[0;32m~/.conda/envs/myclone/lib/python3.9/site-packages/pandas/_libs/index.pyx:138\u001b[0m, in \u001b[0;36mpandas._libs.index.IndexEngine.get_loc\u001b[0;34m()\u001b[0m\n",
      "File \u001b[0;32m~/.conda/envs/myclone/lib/python3.9/site-packages/pandas/_libs/index.pyx:165\u001b[0m, in \u001b[0;36mpandas._libs.index.IndexEngine.get_loc\u001b[0;34m()\u001b[0m\n",
      "File \u001b[0;32mpandas/_libs/hashtable_class_helper.pxi:5745\u001b[0m, in \u001b[0;36mpandas._libs.hashtable.PyObjectHashTable.get_item\u001b[0;34m()\u001b[0m\n",
      "File \u001b[0;32mpandas/_libs/hashtable_class_helper.pxi:5753\u001b[0m, in \u001b[0;36mpandas._libs.hashtable.PyObjectHashTable.get_item\u001b[0;34m()\u001b[0m\n",
      "\u001b[0;31mKeyError\u001b[0m: 'n_min_threshold'",
      "\nThe above exception was the direct cause of the following exception:\n",
      "\u001b[0;31mKeyError\u001b[0m                                  Traceback (most recent call last)",
      "\u001b[1;32m/data/users/hgilmour/tracking/code/tobac_sensitivity/running_tobac.ipynb Cell 11\u001b[0m in \u001b[0;36m1\n\u001b[1;32m     <a href='vscode-notebook-cell:/data/users/hgilmour/tracking/code/tobac_sensitivity/running_tobac.ipynb#X13sZmlsZQ%3D%3D?line=9'>10</a>\u001b[0m ax1\u001b[39m=\u001b[39mplt\u001b[39m.\u001b[39msubplot(\u001b[39m2\u001b[39m,\u001b[39m3\u001b[39m,(\u001b[39m1\u001b[39m,\u001b[39m4\u001b[39m))\n\u001b[1;32m     <a href='vscode-notebook-cell:/data/users/hgilmour/tracking/code/tobac_sensitivity/running_tobac.ipynb#X13sZmlsZQ%3D%3D?line=10'>11</a>\u001b[0m ax1\u001b[39m.\u001b[39mset_title(\u001b[39m'\u001b[39m\u001b[39ma) Total track number \u001b[39m\u001b[39m'\u001b[39m, loc\u001b[39m=\u001b[39m\u001b[39m'\u001b[39m\u001b[39mleft\u001b[39m\u001b[39m'\u001b[39m, fontsize\u001b[39m=\u001b[39m f )\n\u001b[0;32m---> <a href='vscode-notebook-cell:/data/users/hgilmour/tracking/code/tobac_sensitivity/running_tobac.ipynb#X13sZmlsZQ%3D%3D?line=11'>12</a>\u001b[0m ax1\u001b[39m.\u001b[39mplot(df[\u001b[39m'\u001b[39;49m\u001b[39mn_min_threshold\u001b[39;49m\u001b[39m'\u001b[39;49m]\u001b[39m*\u001b[39m(\u001b[39m4.5\u001b[39m\u001b[39m*\u001b[39m\u001b[39m*\u001b[39m\u001b[39m2\u001b[39m),df[\u001b[39m'\u001b[39m\u001b[39mnum_tracks\u001b[39m\u001b[39m'\u001b[39m],linewidth\u001b[39m=\u001b[39m\u001b[39m3\u001b[39m)\n\u001b[1;32m     <a href='vscode-notebook-cell:/data/users/hgilmour/tracking/code/tobac_sensitivity/running_tobac.ipynb#X13sZmlsZQ%3D%3D?line=12'>13</a>\u001b[0m ax1\u001b[39m.\u001b[39mset_xticks(xticks)\n\u001b[1;32m     <a href='vscode-notebook-cell:/data/users/hgilmour/tracking/code/tobac_sensitivity/running_tobac.ipynb#X13sZmlsZQ%3D%3D?line=13'>14</a>\u001b[0m ax1\u001b[39m.\u001b[39mset_ylabel(\u001b[39m'\u001b[39m\u001b[39mno. MCS tracks (01-01-1998 - 08-01-1998)\u001b[39m\u001b[39m'\u001b[39m)\n",
      "File \u001b[0;32m~/.conda/envs/myclone/lib/python3.9/site-packages/pandas/core/frame.py:3804\u001b[0m, in \u001b[0;36mDataFrame.__getitem__\u001b[0;34m(self, key)\u001b[0m\n\u001b[1;32m   3802\u001b[0m \u001b[39mif\u001b[39;00m \u001b[39mself\u001b[39m\u001b[39m.\u001b[39mcolumns\u001b[39m.\u001b[39mnlevels \u001b[39m>\u001b[39m \u001b[39m1\u001b[39m:\n\u001b[1;32m   3803\u001b[0m     \u001b[39mreturn\u001b[39;00m \u001b[39mself\u001b[39m\u001b[39m.\u001b[39m_getitem_multilevel(key)\n\u001b[0;32m-> 3804\u001b[0m indexer \u001b[39m=\u001b[39m \u001b[39mself\u001b[39;49m\u001b[39m.\u001b[39;49mcolumns\u001b[39m.\u001b[39;49mget_loc(key)\n\u001b[1;32m   3805\u001b[0m \u001b[39mif\u001b[39;00m is_integer(indexer):\n\u001b[1;32m   3806\u001b[0m     indexer \u001b[39m=\u001b[39m [indexer]\n",
      "File \u001b[0;32m~/.conda/envs/myclone/lib/python3.9/site-packages/pandas/core/indexes/base.py:3805\u001b[0m, in \u001b[0;36mIndex.get_loc\u001b[0;34m(self, key, method, tolerance)\u001b[0m\n\u001b[1;32m   3803\u001b[0m     \u001b[39mreturn\u001b[39;00m \u001b[39mself\u001b[39m\u001b[39m.\u001b[39m_engine\u001b[39m.\u001b[39mget_loc(casted_key)\n\u001b[1;32m   3804\u001b[0m \u001b[39mexcept\u001b[39;00m \u001b[39mKeyError\u001b[39;00m \u001b[39mas\u001b[39;00m err:\n\u001b[0;32m-> 3805\u001b[0m     \u001b[39mraise\u001b[39;00m \u001b[39mKeyError\u001b[39;00m(key) \u001b[39mfrom\u001b[39;00m \u001b[39merr\u001b[39;00m\n\u001b[1;32m   3806\u001b[0m \u001b[39mexcept\u001b[39;00m \u001b[39mTypeError\u001b[39;00m:\n\u001b[1;32m   3807\u001b[0m     \u001b[39m# If we have a listlike key, _check_indexing_error will raise\u001b[39;00m\n\u001b[1;32m   3808\u001b[0m     \u001b[39m#  InvalidIndexError. Otherwise we fall through and re-raise\u001b[39;00m\n\u001b[1;32m   3809\u001b[0m     \u001b[39m#  the TypeError.\u001b[39;00m\n\u001b[1;32m   3810\u001b[0m     \u001b[39mself\u001b[39m\u001b[39m.\u001b[39m_check_indexing_error(key)\n",
      "\u001b[0;31mKeyError\u001b[0m: 'n_min_threshold'"
     ]
    },
    {
     "data": {
      "image/png": "[encoded data removed]",
      "text/plain": [
       "<Figure size 2400x1400 with 1 Axes>"
      ]
     },
     "metadata": {},
     "output_type": "display_data"
    }
   ],
   "source": [
    "#plot of initiation time of MCSs \n",
    "import seaborn as sns \n",
    "sns.set(font_scale=1.2)\n",
    "\n",
    "plt.figure(figsize=(24,14))\n",
    "f= 20\n",
    "lf= 15\n",
    "\n",
    "xticks=[2400,20000,30000,40000,50000]\n",
    "ax1=plt.subplot(2,3,(1,4))\n",
    "ax1.set_title('a) Total track number ', loc='left', fontsize= f )\n",
    "ax1.plot(df['threshold']*(4.5**2),df['num_tracks'],linewidth=3)\n",
    "ax1.set_xticks(xticks)\n",
    "ax1.set_ylabel('no. MCS tracks (01-01-1998 - 08-01-1998)')\n",
    "ax1.set_xlabel('brightness temperature threshold (K)')\n",
    "\n",
    "ax2=plt.subplot(2,3,2)\n",
    "ax2.set_title('b) Detected features ', loc='left', fontsize= f )\n",
    "ax2.plot(df['threshold']*(4.5**2),df['num_features'],linewidth=3)\n",
    "ax2.set_xticks(xticks)\n",
    "ax2.set_ylabel('no. detected features (01-01-1998 - 08-01-1998)')\n",
    "ax2.set_xlabel('brightness temperature threshold (K)')\n",
    "\n",
    "ax3=plt.subplot(2,3,3)\n",
    "ax3.set_title('c) Area ', loc='left', fontsize= f )\n",
    "ax3.plot(df['threshold']*(4.5**2),df['mean_area'],linewidth=3)\n",
    "ax3.set_xticks(xticks)\n",
    "ax3.set_ylabel('mean MCS area (km$^{2}$)')\n",
    "ax3.set_xlabel('brightness temperature threshold (K)')\n",
    "\n",
    "ax4=plt.subplot(2,3,5)\n",
    "ax4.set_title('d) Lifetime ', loc='left', fontsize= f )\n",
    "ax4.plot(df['threshold']*(4.5**2),df['mean_lifetime'],linewidth=3)\n",
    "ax4.set_xticks(xticks)\n",
    "ax4.set_ylabel('mean MCS lifetime (hrs)')\n",
    "ax4.set_xlabel('brightness temperature threshold (K)')\n",
    "\n",
    "ax5=plt.subplot(2,3,6)\n",
    "ax5.set_title('d) Velocity ', loc='left', fontsize= f )\n",
    "ax5.plot(df['threshold']*(4.5**2),df['mean_velocity'],linewidth=3)\n",
    "ax5.set_xticks(xticks)\n",
    "ax5.set_ylabel('mean MCS velocity (m s$^{-1}$)')\n",
    "ax5.set_xlabel('brightness temperature threshold (K)')\n",
    "\n",
    "plt.savefig('Plot/singleTb/single_tb_analysis_Jan1998.png')\n"
   ]
  },
  {
   "cell_type": "code",
   "execution_count": null,
   "metadata": {},
   "outputs": [],
   "source": []
  }
 ],
 "metadata": {
  "kernelspec": {
   "display_name": "Python 3",
   "language": "python",
   "name": "python3"
  },
  "language_info": {
   "codemirror_mode": {
    "name": "ipython",
    "version": 3
   },
   "file_extension": ".py",
   "mimetype": "text/x-python",
   "name": "python",
   "nbconvert_exporter": "python",
   "pygments_lexer": "ipython3",
   "version": "3.9.13"
  }
 },
 "nbformat": 4,
 "nbformat_minor": 2
}
