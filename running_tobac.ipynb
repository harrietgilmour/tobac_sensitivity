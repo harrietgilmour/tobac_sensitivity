{
 "cells": [
  {
   "cell_type": "code",
   "execution_count": 1,
   "metadata": {},
   "outputs": [],
   "source": [
    "# Import the relevant modules\n",
    "import iris\n",
    "import numpy as np\n",
    "import pandas as pd\n",
    "import matplotlib.pyplot as plt\n",
    "import iris.quickplot as qplt\n",
    "import iris.plot as iplt\n",
    "import datetime\n",
    "import shutil\n",
    "from six.moves import urllib\n",
    "from pathlib import Path\n",
    "from math import pi\n",
    "import trackpy\n",
    "from iris.time import PartialDateTime\n",
    "import tobac\n",
    "import warnings"
   ]
  },
  {
   "cell_type": "code",
   "execution_count": 2,
   "metadata": {},
   "outputs": [],
   "source": [
    "# Import the libraries\n",
    "import functions\n",
    "import dictionaries"
   ]
  },
  {
   "cell_type": "code",
   "execution_count": 3,
   "metadata": {},
   "outputs": [],
   "source": [
    "# Set up the warning messages\n",
    "warnings.filterwarnings('ignore', category=UserWarning, append=True)\n",
    "warnings.filterwarnings('ignore', category=RuntimeWarning, append=True)\n",
    "warnings.filterwarnings('ignore', category=FutureWarning, append=True)\n",
    "warnings.filterwarnings('ignore', category=pd.io.pytables.PerformanceWarning)"
   ]
  },
  {
   "cell_type": "code",
   "execution_count": 4,
   "metadata": {},
   "outputs": [],
   "source": [
    "# Load the olr and precip data\n",
    "olr, time_olr, datetimes_olr, con_olr = functions.load_olr_data(dictionaries.data_file)\n",
    "\n",
    "# Load the precip data\n",
    "precip, time_precip, datetimes_precip, con_precip = functions.load_precip_data(dictionaries.precip)"
   ]
  },
  {
   "cell_type": "code",
   "execution_count": 5,
   "metadata": {},
   "outputs": [],
   "source": [
    "# Set up the directory to save the data\n",
    "savedir, plot_dir = functions.setup_directories()"
   ]
  },
  {
   "cell_type": "code",
   "execution_count": 6,
   "metadata": {},
   "outputs": [],
   "source": [
    "# Extract longitude and latitude\n",
    "longitude,latitude=np.meshgrid(olr.coord('longitude').points,olr.coord('latitude').points)\n",
    "\n",
    "# Calculate dxy\n",
    "dxy, dt = functions.calculate_dxy(longitude, latitude, olr)"
   ]
  },
  {
   "cell_type": "code",
   "execution_count": 7,
   "metadata": {},
   "outputs": [],
   "source": [
    "#sigma = dictionaries.sigma\n",
    "\n",
    "#tf = (olr.data/sigma)**(0.25)\n",
    "#tb_var = (-dictionaries.a + np.sqrt(dictionaries.a**2 + 4*dictionaries.b*tf.data))/(2*dictionaries.b)"
   ]
  },
  {
   "cell_type": "code",
   "execution_count": 8,
   "metadata": {},
   "outputs": [],
   "source": [
    "# Calculate brightness temperatures\n",
    "tf, tb_var, tb = functions.calculate_temperatures(dictionaries.a, dictionaries.b, dictionaries.sigma, olr)"
   ]
  },
  {
   "cell_type": "code",
   "execution_count": 9,
   "metadata": {},
   "outputs": [],
   "source": [
    "# Set up the parameters dictionaries\n",
    "# features parameters\n",
    "parameters_features = functions.setup_parameters_features(dictionaries.position_threshold, dictionaries.sigma_threshold, dictionaries.target, dictionaries.threshold, dictionaries.n_min_threshold)\n",
    "\n",
    "# segmentation parameters\n",
    "parameters_segmentation = functions.setup_parameters_segmentation(dictionaries.target, dictionaries.method, dictionaries.threshold)\n",
    "\n",
    "# linking parameters\n",
    "parameters_linking = functions.setup_parameters_linking(dictionaries.n_min_threshold, dictionaries.stubs, dictionaries.order, dictionaries.extrapolate, dictionaries.memory, dictionaries.adaptive_stop, dictionaries.adaptive_step, dictionaries.subnetwork_size, dictionaries.method_linking)"
   ]
  },
  {
   "cell_type": "code",
   "execution_count": null,
   "metadata": {},
   "outputs": [
    {
     "name": "stdout",
     "output_type": "stream",
     "text": [
      "Frame 743: 19 trajectories present.\n",
      "[14.74846675 16.67869325 18.98320398 15.05241711 20.08509699  9.43624985\n",
      " 13.99596942 10.89720153 18.08454252 18.1469883  20.48641888 10.10053024\n",
      "  7.7763455  14.29892171  8.92174533  8.34331278 13.9887844  10.65660897\n",
      "  7.26515263 26.71746892 13.32825563 16.52837926 18.78153864 12.71070137\n",
      " 16.57546185 14.8493729  17.29060749 27.08786549  9.81514399 13.48866083\n",
      "  3.66011327 11.79291682 19.28751088 13.66231731 27.55447194 20.34541193\n",
      "  8.02648558  5.12944834 12.11419108 12.82606495 22.3252486  25.23049164\n",
      " 16.66519424 17.9960401  14.57872047 12.2378687  12.93019552 21.52046694\n",
      " 14.29666445 11.9719471  13.52215722 29.82664776 18.58159236 17.40798437\n",
      " 12.20177343  8.89569623 14.33800207 12.15961187 13.39875996  3.59930675\n",
      " 13.89348972 10.30458629 12.93790202 17.39832932 15.6143146  22.21247947\n",
      " 11.11422658 11.82084154 14.67616562 12.25653158 19.19731357 13.7275482\n",
      " 14.80640417  5.85646234 10.45509832 17.2551974  12.04099251  8.72207479\n",
      " 16.73177678  6.87021754  8.96017051 17.80651237 23.05132063 32.57592692\n",
      "  7.36341001  5.76723884  4.46446126 18.91317428 18.80616325 15.68373206\n",
      " 11.65137901 16.12614827 12.90580901 15.34527674 28.21163321 12.39809146\n",
      " 17.16487279 24.48693278 18.43172539 11.35666826 18.51082613 17.21192632\n",
      " 15.65341402  7.07067264 10.75848117 12.11515182 14.57262676 14.03829236\n",
      " 31.80009128 11.64505342 12.03046038  9.9036337  21.55388402 18.02604261\n",
      " 11.83784249  8.32736692 19.31026404  4.82108179 15.12144527  4.62824056\n",
      "  6.43753416  6.25883164 11.77601046  8.92688816 14.5079062  12.41766348\n",
      " 10.21849993 11.7736789   7.71629924  9.18592785  9.57723607 21.78095102\n",
      " 20.03109871 23.57916711 20.51188294 27.55131399 11.79866345 11.20115276\n",
      "  7.53106079 19.65952889 34.3296846  12.42739131 22.88679051 16.06759071\n",
      "  5.4485227  22.60188955 14.42131043  9.37272771 15.00210837 12.56062961\n",
      " 11.53930395 12.55270945 16.62735387 16.42453505 19.92699209  7.80657002\n",
      " 11.9689538   4.35083592 10.24239148 30.79789835  7.80704237  9.91114451\n",
      " 21.07352712 24.42059475  7.6970696   8.92661045 16.0091291  15.16801611\n",
      " 12.78735486 12.89093609 24.35601034 10.58061857 13.56794544  9.37267959\n",
      " 19.46331704  6.33547419 32.6635113  11.57017959 19.2889863  12.14714053\n",
      " 16.08581661 16.04513637  8.68155798 28.56761384 28.72128385 13.042918\n",
      " 15.72513533 10.64453097  9.56724169 15.86971682 24.31703279  8.05131108\n",
      " 13.87723959 22.58458754 13.74222427 22.84322019  3.90395233  9.70223335\n",
      "  9.40649308 15.83452855 32.85287512  8.07476507  7.23876356 15.68544478\n",
      "  7.85089923  7.13781853 10.71701145 10.53863766 33.55465157 18.06435423\n",
      " 20.13929631 12.68010196 11.77318105 14.24488978 15.70280524 19.77803673\n",
      " 12.50641849 12.34638517  9.3228683   5.95744171 13.76685094 11.71156282\n",
      " 20.39449375 17.693834   10.89770392 19.09007136 14.92634054  8.49681252\n",
      "  8.9596128  15.36506809  6.10537598 14.0194322  14.20558999  9.16516593\n",
      "  7.54773457 17.97347281 24.24832171  8.47222218  7.67808079 17.66319455\n",
      " 12.63378878  5.39859652 29.39052251 19.72884876 12.89404425 15.03322925\n",
      "  9.04893234 10.89388381 20.03391906 13.4094645  24.03899499 11.70113266\n",
      "  8.79339752  2.72703052  7.51464862 13.18964013 10.27267771 15.11060719\n",
      "  9.9597825  12.75131043 14.49337002 16.41094332  9.73557214  6.97246577\n",
      " 16.9276547  12.29058178  9.51772633  9.66904083 14.21874847  7.40914117\n",
      " 11.11026931 17.95958113  6.54793739  5.56870608 14.02774849 16.66386955\n",
      "  8.84508727 11.38437645 11.87866509 20.29501356 18.71793788 10.1758658\n",
      " 14.75894597 20.92416787 13.68007297 14.59700331  3.72103496 14.69013818\n",
      " 25.36139026 17.66623625  6.34322158 20.21147111 15.22324417 12.79707954\n",
      " 10.81737196 17.15604753 13.55948113  5.61864307 22.59553215 14.67840426\n",
      " 13.56335212 10.11091715  6.02059052 11.37319635  9.766541   11.05476522\n",
      "  7.1484713  19.77132577 20.7512447  13.90944481 18.7447388  13.22006539\n",
      " 16.48857706  9.06495455 22.24662075 14.26794783  6.04576318  8.15044751\n",
      "  7.25749616 19.39990747 10.78054578  5.95980936 12.09471607 10.16868719\n",
      " 21.42170356 21.12702775 15.18317112 15.48109923 16.73167265 13.42911634\n",
      " 22.54763266 13.92828911 20.55787031  8.70833794 12.36978847 10.36819333\n",
      " 15.03293285 20.5811993  13.89639891 11.84820604  5.89342914 13.42565615\n",
      "  6.93732545 27.44743822 18.30275765  8.67304642 26.11132019 11.38879543\n",
      "  5.11178942 18.06854061 16.2821729   2.67858499 14.47425094 13.7660038\n",
      " 11.65699629 19.66649773 10.27838878 12.63841589 10.08674913  7.49999854\n",
      " 23.69251703 11.95021996 12.21292936 10.13045674 29.90394638  7.65569008\n",
      " 12.69651071 12.47321919 15.00627901 14.54728439 11.76333321 17.28321764\n",
      " 10.7386261  14.32354163 18.70950706 16.62868867 12.31514045 18.37961268\n",
      " 18.808159   12.66117963 10.5013125  17.43021358 10.09104359 10.92104323\n",
      " 19.92322864 10.76279434  9.09198457  7.1272967  18.98386032 18.09349054\n",
      "  8.69360611 21.3109401  14.05405533  5.3698006  29.6303114  13.13684079\n",
      " 15.87029415  7.59507947 12.20849368 22.37294028 13.97267394 11.85873094\n",
      " 14.67482583 18.59368529  5.36750587]\n",
      "Finished analysis for threshold = 241\n"
     ]
    }
   ],
   "source": [
    "# Now perform the sensitivity analysis\n",
    "print(\"Values of threshold to be tested: \", dictionaries.threshold_values)\n",
    "threshold_values=dictionaries.threshold_values\n",
    "\n",
    "# Call the sensitivity analysis function\n",
    "functions.perform_sensitivity_analysis(tb, savedir, parameters_features, parameters_segmentation, parameters_linking, threshold_values)"
   ]
  },
  {
   "cell_type": "code",
   "execution_count": null,
   "metadata": {},
   "outputs": [],
   "source": [
    "df = pd.read_csv('Save/Jan_2005/singleTb/sensitivity_analysis_singleTbThreshold.csv')"
   ]
  },
  {
   "cell_type": "code",
   "execution_count": null,
   "metadata": {},
   "outputs": [],
   "source": [
    "df"
   ]
  },
  {
   "cell_type": "code",
   "execution_count": null,
   "metadata": {},
   "outputs": [],
   "source": [
    "#plot of single Tb sensitivity analysis for MCSs\n",
    "import seaborn as sns \n",
    "sns.set(font_scale=1.2)\n",
    "\n",
    "plt.figure(figsize=(24,14))\n",
    "f= 20\n",
    "lf= 15\n",
    "\n",
    "xticks=[225,230,235,240,245]\n",
    "ax1=plt.subplot(2,3,(1,4))\n",
    "ax1.set_title('a) Total track number ', loc='left', fontsize= f )\n",
    "ax1.plot(df['threshold'],df['num_tracks'],linewidth=3)\n",
    "ax1.set_xticks(xticks)\n",
    "ax1.set_ylabel('no. MCS tracks (01-01-2005 - 31-01-2005)')\n",
    "ax1.set_xlabel('brightness temperature (K)')\n",
    "\n",
    "ax2=plt.subplot(2,3,2)\n",
    "ax2.set_title('b) Detected features ', loc='left', fontsize= f )\n",
    "ax2.plot(df['threshold'],df['num_features'],linewidth=3)\n",
    "ax2.set_xticks(xticks)\n",
    "ax2.set_ylabel('no. detected features (01-01-2005 - 31-01-2005)')\n",
    "ax2.set_xlabel('brightness temperature (K)')\n",
    "\n",
    "ax3=plt.subplot(2,3,3)\n",
    "ax3.set_title('c) Area ', loc='left', fontsize= f )\n",
    "ax3.plot(df['threshold'],df['mean_area'],linewidth=3)\n",
    "ax3.set_xticks(xticks)\n",
    "ax3.set_ylabel('mean MCS area (km$^{2}$)')\n",
    "ax3.set_xlabel('brightness temperature (K)')\n",
    "\n",
    "ax4=plt.subplot(2,3,5)\n",
    "ax4.set_title('d) Lifetime ', loc='left', fontsize= f )\n",
    "ax4.plot(df['threshold'],df['mean_lifetime'],linewidth=3)\n",
    "ax4.set_xticks(xticks)\n",
    "ax4.set_ylabel('mean MCS lifetime (hrs)')\n",
    "ax4.set_xlabel('brightness temperature (K)')\n",
    "\n",
    "ax5=plt.subplot(2,3,6)\n",
    "ax5.set_title('d) Velocity ', loc='left', fontsize= f )\n",
    "ax5.plot(df['threshold'],df['mean_velocity'],linewidth=3)\n",
    "ax5.set_xticks(xticks)\n",
    "ax5.set_ylabel('mean MCS velocity (m s$^{-1}$)')\n",
    "ax5.set_xlabel('brightness temperature (K)')\n",
    "\n",
    "plt.savefig('Plot/Jan_2005/singleTb/single_tb_analysis.png')\n"
   ]
  },
  {
   "cell_type": "code",
   "execution_count": null,
   "metadata": {},
   "outputs": [],
   "source": [
    "# #plot of nminthreshold sensitivity analysis for MCSs\n",
    "# import seaborn as sns \n",
    "# sns.set(font_scale=1.2)\n",
    "\n",
    "# plt.figure(figsize=(24,14))\n",
    "# f= 20\n",
    "# lf= 15\n",
    "\n",
    "# xticks=[118,987,1481,1975,2469]\n",
    "# ax1=plt.subplot(2,3,(1,4))\n",
    "# ax1.set_title('a) Total track number ', loc='left', fontsize= f )\n",
    "# ax1.plot(df['n_min_threshold'],df['num_tracks'],linewidth=3)\n",
    "# ax1.set_xticks(xticks)\n",
    "# ax1.set_ylabel('no. MCS tracks (01-01-2005 - 31-01-2005)')\n",
    "# ax1.set_xlabel('minimum area threshold (km$^{2}$)')\n",
    "\n",
    "# ax2=plt.subplot(2,3,2)\n",
    "# ax2.set_title('b) Detected features ', loc='left', fontsize= f )\n",
    "# ax2.plot(df['n_min_threshold'],df['num_features'],linewidth=3)\n",
    "# ax2.set_xticks(xticks)\n",
    "# ax2.set_ylabel('no. detected features (01-01-2005 - 31-01-2005)')\n",
    "# ax2.set_xlabel('minimum area threshold (km$^{2}$)')\n",
    "\n",
    "# ax3=plt.subplot(2,3,3)\n",
    "# ax3.set_title('c) Area ', loc='left', fontsize= f )\n",
    "# ax3.plot(df['n_min_threshold'],df['mean_area'],linewidth=3)\n",
    "# ax3.set_xticks(xticks)\n",
    "# ax3.set_ylabel('mean MCS area (km$^{2}$)')\n",
    "# ax3.set_xlabel('minimum area threshold (km$^{2}$)')\n",
    "\n",
    "# ax4=plt.subplot(2,3,5)\n",
    "# ax4.set_title('d) Lifetime ', loc='left', fontsize= f )\n",
    "# ax4.plot(df['n_min_threshold'],df['mean_lifetime'],linewidth=3)\n",
    "# ax4.set_xticks(xticks)\n",
    "# ax4.set_ylabel('mean MCS lifetime (hrs)')\n",
    "# ax4.set_xlabel('minimum area threshold (km$^{2}$)')\n",
    "\n",
    "# ax5=plt.subplot(2,3,6)\n",
    "# ax5.set_title('d) Velocity ', loc='left', fontsize= f )\n",
    "# ax5.plot(df['n_min_threshold'],df['mean_velocity'],linewidth=3)\n",
    "# ax5.set_xticks(xticks)\n",
    "# ax5.set_ylabel('mean MCS velocity (m s$^{-1}$)')\n",
    "# ax5.set_xlabel('minimum area threshold (km$^{2}$)')\n",
    "\n",
    "# plt.savefig('Plot/Jan_2005/nminthreshold/nminthreshold_analysis.png')\n"
   ]
  }
 ],
 "metadata": {
  "kernelspec": {
   "display_name": ".conda-myclone Python (Conda)",
   "language": "python",
   "name": "conda-env-.conda-myclone-py"
  },
  "language_info": {
   "codemirror_mode": {
    "name": "ipython",
    "version": 3
   },
   "file_extension": ".py",
   "mimetype": "text/x-python",
   "name": "python",
   "nbconvert_exporter": "python",
   "pygments_lexer": "ipython3",
   "version": "3.9.13"
  }
 },
 "nbformat": 4,
 "nbformat_minor": 4
}
