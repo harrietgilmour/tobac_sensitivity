{
 "cells": [
  {
   "cell_type": "code",
   "execution_count": 1,
   "metadata": {},
   "outputs": [],
   "source": [
    "# Import the relevant modules\n",
    "import iris\n",
    "import numpy as np\n",
    "import pandas as pd\n",
    "import matplotlib.pyplot as plt\n",
    "import iris.quickplot as qplt\n",
    "import iris.plot as iplt\n",
    "import datetime\n",
    "import shutil\n",
    "from six.moves import urllib\n",
    "from pathlib import Path\n",
    "from math import pi\n",
    "import trackpy\n",
    "from iris.time import PartialDateTime\n",
    "import tobac\n",
    "import warnings"
   ]
  },
  {
   "cell_type": "code",
   "execution_count": 2,
   "metadata": {},
   "outputs": [],
   "source": [
    "# Import the libraries\n",
    "import functions\n",
    "import dictionaries"
   ]
  },
  {
   "cell_type": "code",
   "execution_count": 3,
   "metadata": {},
   "outputs": [],
   "source": [
    "# Set up the warning messages\n",
    "warnings.filterwarnings('ignore', category=UserWarning, append=True)\n",
    "warnings.filterwarnings('ignore', category=RuntimeWarning, append=True)\n",
    "warnings.filterwarnings('ignore', category=FutureWarning, append=True)\n",
    "warnings.filterwarnings('ignore', category=pd.io.pytables.PerformanceWarning)"
   ]
  },
  {
   "cell_type": "code",
   "execution_count": 4,
   "metadata": {},
   "outputs": [],
   "source": [
    "# Load the olr and precip data\n",
    "olr, time_olr, datetimes_olr, con_olr = functions.load_olr_data(dictionaries.data_file)\n",
    "\n",
    "# Load the precip data\n",
    "precip, time_precip, datetimes_precip, con_precip = functions.load_precip_data(dictionaries.precip)"
   ]
  },
  {
   "cell_type": "code",
   "execution_count": 5,
   "metadata": {},
   "outputs": [],
   "source": [
    "# Set up the directory to save the data\n",
    "savedir, plot_dir = functions.setup_directories()"
   ]
  },
  {
   "cell_type": "code",
   "execution_count": 6,
   "metadata": {},
   "outputs": [],
   "source": [
    "# Extract longitude and latitude\n",
    "longitude,latitude=np.meshgrid(olr.coord('longitude').points,olr.coord('latitude').points)\n",
    "\n",
    "# Calculate dxy\n",
    "dxy, dt = functions.calculate_dxy(longitude, latitude, olr)"
   ]
  },
  {
   "cell_type": "code",
   "execution_count": 7,
   "metadata": {},
   "outputs": [],
   "source": [
    "#sigma = dictionaries.sigma\n",
    "\n",
    "#tf = (olr.data/sigma)**(0.25)\n",
    "#tb_var = (-dictionaries.a + np.sqrt(dictionaries.a**2 + 4*dictionaries.b*tf.data))/(2*dictionaries.b)"
   ]
  },
  {
   "cell_type": "code",
   "execution_count": null,
   "metadata": {},
   "outputs": [],
   "source": [
    "# Calculate brightness temperatures\n",
    "tf, tb_var, tb = functions.calculate_temperatures(dictionaries.a, dictionaries.b, dictionaries.sigma, olr)"
   ]
  },
  {
   "cell_type": "code",
   "execution_count": null,
   "metadata": {},
   "outputs": [],
   "source": [
    "# Set up the parameters dictionaries\n",
    "# features parameters\n",
    "parameters_features = functions.setup_parameters_features(dictionaries.position_threshold, dictionaries.sigma_threshold, dictionaries.target, dictionaries.threshold, dictionaries.n_min_threshold)\n",
    "\n",
    "# segmentation parameters\n",
    "parameters_segmentation = functions.setup_parameters_segmentation(dictionaries.target, dictionaries.method, dictionaries.threshold)\n",
    "\n",
    "# linking parameters\n",
    "parameters_linking = functions.setup_parameters_linking(dictionaries.n_min_threshold, dictionaries.stubs, dictionaries.order, dictionaries.extrapolate, dictionaries.memory, dictionaries.adaptive_stop, dictionaries.adaptive_step, dictionaries.subnetwork_size, dictionaries.method_linking)"
   ]
  },
  {
   "cell_type": "code",
   "execution_count": null,
   "metadata": {},
   "outputs": [],
   "source": [
    "# Now perform the sensitivity analysis\n",
    "print(\"Values of threshold to be tested: \", dictionaries.threshold_values)\n",
    "threshold_values=dictionaries.threshold_values\n",
    "\n",
    "# Call the sensitivity analysis function\n",
    "functions.perform_sensitivity_analysis(tb, savedir, parameters_features, parameters_segmentation, parameters_linking, threshold_values)"
   ]
  },
  {
   "cell_type": "code",
   "execution_count": null,
   "metadata": {},
   "outputs": [],
   "source": [
    "df = pd.read_csv('Save/Jan_2005/singleTb/sensitivity_analysis_singleTb.csv')"
   ]
  },
  {
   "cell_type": "code",
   "execution_count": null,
   "metadata": {},
   "outputs": [],
   "source": [
    "df"
   ]
  },
  {
   "cell_type": "code",
   "execution_count": null,
   "metadata": {},
   "outputs": [],
   "source": [
    "#plot of initiation time of MCSs \n",
    "import seaborn as sns \n",
    "sns.set(font_scale=1.2)\n",
    "\n",
    "plt.figure(figsize=(24,14))\n",
    "f= 20\n",
    "lf= 15\n",
    "\n",
    "xticks=[225,230,235,240,245]\n",
    "ax1=plt.subplot(2,3,(1,4))\n",
    "ax1.set_title('a) Total track number ', loc='left', fontsize= f )\n",
    "ax1.plot(df['threshold']*4.5**2,df['num_tracks'],linewidth=3)\n",
    "ax1.set_xticks(xticks)\n",
    "ax1.set_ylabel('no. MCS tracks (01-01-1998 - 08-01-1998)')\n",
    "ax1.set_xlabel('brightness temperature (K)')\n",
    "\n",
    "ax2=plt.subplot(2,3,2)\n",
    "ax2.set_title('b) Detected features ', loc='left', fontsize= f )\n",
    "ax2.plot(df['threshold']*4.5**2,df['num_features'],linewidth=3)\n",
    "ax2.set_xticks(xticks)\n",
    "ax2.set_ylabel('no. detected features (01-01-1998 - 08-01-1998)')\n",
    "ax2.set_xlabel('brightness temperature (K)')\n",
    "\n",
    "ax3=plt.subplot(2,3,3)\n",
    "ax3.set_title('c) Area ', loc='left', fontsize= f )\n",
    "ax3.plot(df['threshold']*4.5**2,df['mean_area'],linewidth=3)\n",
    "ax3.set_xticks(xticks)\n",
    "ax3.set_ylabel('mean MCS area (km$^{2}$)')\n",
    "ax3.set_xlabel('brightness temperature (K)')\n",
    "\n",
    "ax4=plt.subplot(2,3,5)\n",
    "ax4.set_title('d) Lifetime ', loc='left', fontsize= f )\n",
    "ax4.plot(df['threshold']*4.5**2,df['mean_lifetime'],linewidth=3)\n",
    "ax4.set_xticks(xticks)\n",
    "ax4.set_ylabel('mean MCS lifetime (hrs)')\n",
    "ax4.set_xlabel('brightness temperature (K)')\n",
    "\n",
    "ax5=plt.subplot(2,3,6)\n",
    "ax5.set_title('d) Velocity ', loc='left', fontsize= f )\n",
    "ax5.plot(df['threshold']*4.5**2,df['mean_velocity'],linewidth=3)\n",
    "ax5.set_xticks(xticks)\n",
    "ax5.set_ylabel('mean MCS velocity (m s$^{-1}$)')\n",
    "ax5.set_xlabel('brightness temperature (K)')\n",
    "\n",
    "plt.savefig('Plot/Jan_2005/singleTb/singleTb_analysis.png')\n"
   ]
  },
  {
   "cell_type": "code",
   "execution_count": null,
   "metadata": {},
   "outputs": [],
   "source": []
  }
 ],
 "metadata": {
  "kernelspec": {
   "display_name": ".conda-myclone Python (Conda)",
   "language": "python",
   "name": "conda-env-.conda-myclone-py"
  },
  "language_info": {
   "codemirror_mode": {
    "name": "ipython",
    "version": 3
   },
   "file_extension": ".py",
   "mimetype": "text/x-python",
   "name": "python",
   "nbconvert_exporter": "python",
   "pygments_lexer": "ipython3",
   "version": "3.9.13"
  }
 },
 "nbformat": 4,
 "nbformat_minor": 4
}
