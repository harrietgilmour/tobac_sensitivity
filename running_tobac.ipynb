{
 "cells": [
  {
   "cell_type": "code",
   "execution_count": 1,
   "metadata": {},
   "outputs": [],
   "source": [
    "# Import the relevant modules\n",
    "import iris\n",
    "import numpy as np\n",
    "import pandas as pd\n",
    "import matplotlib.pyplot as plt\n",
    "import iris.quickplot as qplt\n",
    "import iris.plot as iplt\n",
    "import datetime\n",
    "import shutil\n",
    "from six.moves import urllib\n",
    "from pathlib import Path\n",
    "from math import pi\n",
    "import trackpy\n",
    "from iris.time import PartialDateTime\n",
    "import tobac\n",
    "import warnings"
   ]
  },
  {
   "cell_type": "code",
   "execution_count": 2,
   "metadata": {},
   "outputs": [],
   "source": [
    "# Import the libraries\n",
    "import functions\n",
    "import dictionaries"
   ]
  },
  {
   "cell_type": "code",
   "execution_count": 3,
   "metadata": {},
   "outputs": [],
   "source": [
    "# Set up the warning messages\n",
    "warnings.filterwarnings('ignore', category=UserWarning, append=True)\n",
    "warnings.filterwarnings('ignore', category=RuntimeWarning, append=True)\n",
    "warnings.filterwarnings('ignore', category=FutureWarning, append=True)\n",
    "warnings.filterwarnings('ignore', category=pd.io.pytables.PerformanceWarning)"
   ]
  },
  {
   "cell_type": "code",
   "execution_count": 4,
   "metadata": {},
   "outputs": [],
   "source": [
    "# Load the olr and precip data\n",
    "olr, time_olr, datetimes_olr, con_olr = functions.load_olr_data(dictionaries.data_file)\n",
    "\n",
    "# Load the precip data\n",
    "precip, time_precip, datetimes_precip, con_precip = functions.load_precip_data(dictionaries.precip)"
   ]
  },
  {
   "cell_type": "code",
   "execution_count": 5,
   "metadata": {},
   "outputs": [],
   "source": [
    "# Set up the directory to save the data\n",
    "savedir, plot_dir = functions.setup_directories()"
   ]
  },
  {
   "cell_type": "code",
   "execution_count": 6,
   "metadata": {},
   "outputs": [],
   "source": [
    "# Extract longitude and latitude\n",
    "longitude,latitude=np.meshgrid(olr.coord('longitude').points,olr.coord('latitude').points)\n",
    "\n",
    "# Calculate dxy\n",
    "dxy, dt = functions.calculate_dxy(longitude, latitude, olr)"
   ]
  },
  {
   "cell_type": "code",
   "execution_count": 7,
   "metadata": {},
   "outputs": [],
   "source": [
    "#sigma = dictionaries.sigma\n",
    "\n",
    "#tf = (olr.data/sigma)**(0.25)\n",
    "#tb_var = (-dictionaries.a + np.sqrt(dictionaries.a**2 + 4*dictionaries.b*tf.data))/(2*dictionaries.b)"
   ]
  },
  {
   "cell_type": "code",
   "execution_count": 8,
   "metadata": {},
   "outputs": [],
   "source": [
    "# Calculate brightness temperatures\n",
    "tf, tb_var, tb = functions.calculate_temperatures(dictionaries.a, dictionaries.b, dictionaries.sigma, olr)"
   ]
  },
  {
   "cell_type": "code",
   "execution_count": 9,
   "metadata": {},
   "outputs": [],
   "source": [
    "# Set up the parameters dictionaries\n",
    "# features parameters\n",
    "parameters_features = functions.setup_parameters_features(dictionaries.position_threshold, dictionaries.sigma_threshold, dictionaries.target, dictionaries.threshold, dictionaries.n_min_threshold)\n",
    "\n",
    "# segmentation parameters\n",
    "parameters_segmentation = functions.setup_parameters_segmentation(dictionaries.target, dictionaries.method, dictionaries.threshold)\n",
    "\n",
    "# linking parameters\n",
    "parameters_linking = functions.setup_parameters_linking(dictionaries.n_min_threshold, dictionaries.stubs, dictionaries.order, dictionaries.extrapolate, dictionaries.memory, dictionaries.adaptive_stop, dictionaries.adaptive_step, dictionaries.subnetwork_size, dictionaries.method_linking)"
   ]
  },
  {
   "cell_type": "code",
   "execution_count": 10,
   "metadata": {},
   "outputs": [
    {
     "name": "stdout",
     "output_type": "stream",
     "text": [
      "Values of nminthreshold to be tested:  [118, 987, 1481, 1550, 1975, 2469]\n"
     ]
    },
    {
     "ename": "TypeError",
     "evalue": "unsupported operand type(s) for /: 'list' and 'int'",
     "output_type": "error",
     "traceback": [
      "\u001b[0;31m---------------------------------------------------------------------------\u001b[0m",
      "\u001b[0;31mTypeError\u001b[0m                                 Traceback (most recent call last)",
      "Cell \u001b[0;32mIn [10], line 6\u001b[0m\n\u001b[1;32m      3\u001b[0m n_min_threshold_values\u001b[38;5;241m=\u001b[39mdictionaries\u001b[38;5;241m.\u001b[39mn_min_threshold_values\n\u001b[1;32m      5\u001b[0m \u001b[38;5;66;03m# Call the sensitivity analysis function\u001b[39;00m\n\u001b[0;32m----> 6\u001b[0m \u001b[43mfunctions\u001b[49m\u001b[38;5;241;43m.\u001b[39;49m\u001b[43mperform_sensitivity_analysis\u001b[49m\u001b[43m(\u001b[49m\u001b[43mtb\u001b[49m\u001b[43m,\u001b[49m\u001b[43m \u001b[49m\u001b[43msavedir\u001b[49m\u001b[43m,\u001b[49m\u001b[43m \u001b[49m\u001b[43mparameters_features\u001b[49m\u001b[43m,\u001b[49m\u001b[43m \u001b[49m\u001b[43mparameters_segmentation\u001b[49m\u001b[43m,\u001b[49m\u001b[43m \u001b[49m\u001b[43mparameters_linking\u001b[49m\u001b[43m,\u001b[49m\u001b[43m \u001b[49m\u001b[43mn_min_threshold_values\u001b[49m\u001b[43m)\u001b[49m\n",
      "File \u001b[0;32m/spice/data/users/hgilmour/tracking/code/tobac_sensitivity/functions.py:409\u001b[0m, in \u001b[0;36mperform_sensitivity_analysis\u001b[0;34m(tb, savedir, parameters_features, parameters_segmentation, parameters_linking, n_min_threshold_values)\u001b[0m\n\u001b[1;32m    406\u001b[0m Mask_tb, Features_tb \u001b[38;5;241m=\u001b[39m tobac\u001b[38;5;241m.\u001b[39msegmentation_2D(Features, tb, dxy,\u001b[38;5;241m*\u001b[39m\u001b[38;5;241m*\u001b[39mparameters_segmentation)\n\u001b[1;32m    408\u001b[0m \u001b[38;5;66;03m# Linking:\u001b[39;00m\n\u001b[0;32m--> 409\u001b[0m Track \u001b[38;5;241m=\u001b[39m \u001b[43mtobac\u001b[49m\u001b[38;5;241;43m.\u001b[39;49m\u001b[43mlinking_trackpy\u001b[49m\u001b[43m(\u001b[49m\u001b[43mFeatures\u001b[49m\u001b[43m,\u001b[49m\u001b[43m \u001b[49m\u001b[43mtb\u001b[49m\u001b[43m,\u001b[49m\u001b[43m \u001b[49m\u001b[43mdt\u001b[49m\u001b[38;5;241;43m=\u001b[39;49m\u001b[43mdt\u001b[49m\u001b[43m,\u001b[49m\u001b[43m \u001b[49m\u001b[43mdxy\u001b[49m\u001b[38;5;241;43m=\u001b[39;49m\u001b[43mdxy\u001b[49m\u001b[43m,\u001b[49m\u001b[43m \u001b[49m\u001b[38;5;241;43m*\u001b[39;49m\u001b[38;5;241;43m*\u001b[39;49m\u001b[43mparameters_linking\u001b[49m\u001b[43m)\u001b[49m\n\u001b[1;32m    410\u001b[0m Track[\u001b[38;5;124m\"\u001b[39m\u001b[38;5;124mlongitude\u001b[39m\u001b[38;5;124m\"\u001b[39m] \u001b[38;5;241m=\u001b[39m Track[\u001b[38;5;124m\"\u001b[39m\u001b[38;5;124mlongitude\u001b[39m\u001b[38;5;124m\"\u001b[39m] \u001b[38;5;241m-\u001b[39m \u001b[38;5;241m360\u001b[39m\n\u001b[1;32m    411\u001b[0m Track\u001b[38;5;241m.\u001b[39mto_hdf(savedir \u001b[38;5;241m/\u001b[39m \u001b[38;5;124m'\u001b[39m\u001b[38;5;124mJan_1998/n_min_threshold/Track_nmin\u001b[39m\u001b[38;5;132;01m{0}\u001b[39;00m\u001b[38;5;124m.h5\u001b[39m\u001b[38;5;124m'\u001b[39m\u001b[38;5;241m.\u001b[39mformat(n_min_threshold), \u001b[38;5;124m'\u001b[39m\u001b[38;5;124mtable\u001b[39m\u001b[38;5;124m'\u001b[39m)\n",
      "File \u001b[0;32m~/.local/lib/python3.9/site-packages/tobac/tracking.py:183\u001b[0m, in \u001b[0;36mlinking_trackpy\u001b[0;34m(features, field_in, dt, dxy, v_max, d_max, d_min, subnetwork_size, memory, stubs, time_cell_min, order, extrapolate, method_linking, adaptive_step, adaptive_stop, cell_number_start, cell_number_unassigned)\u001b[0m\n\u001b[1;32m    178\u001b[0m \u001b[38;5;66;03m#    from trackpy import filter_stubs\u001b[39;00m\n\u001b[1;32m    179\u001b[0m \u001b[38;5;66;03m#    from .utils import add_coordinates\u001b[39;00m\n\u001b[1;32m    180\u001b[0m \n\u001b[1;32m    181\u001b[0m \u001b[38;5;66;03m# calculate search range based on timestep and grid spacing\u001b[39;00m\n\u001b[1;32m    182\u001b[0m \u001b[38;5;28;01mif\u001b[39;00m v_max \u001b[38;5;129;01mis\u001b[39;00m \u001b[38;5;129;01mnot\u001b[39;00m \u001b[38;5;28;01mNone\u001b[39;00m:\n\u001b[0;32m--> 183\u001b[0m     search_range \u001b[38;5;241m=\u001b[39m \u001b[38;5;28mint\u001b[39m(\u001b[43mdt\u001b[49m\u001b[43m \u001b[49m\u001b[38;5;241;43m*\u001b[39;49m\u001b[43m \u001b[49m\u001b[43mv_max\u001b[49m\u001b[43m \u001b[49m\u001b[38;5;241;43m/\u001b[39;49m\u001b[43m \u001b[49m\u001b[43mdxy\u001b[49m)\n\u001b[1;32m    185\u001b[0m \u001b[38;5;66;03m# calculate search range based on timestep and grid spacing\u001b[39;00m\n\u001b[1;32m    186\u001b[0m \u001b[38;5;28;01mif\u001b[39;00m d_max \u001b[38;5;129;01mis\u001b[39;00m \u001b[38;5;129;01mnot\u001b[39;00m \u001b[38;5;28;01mNone\u001b[39;00m:\n",
      "\u001b[0;31mTypeError\u001b[0m: unsupported operand type(s) for /: 'list' and 'int'"
     ]
    }
   ],
   "source": [
    "# Now perform the sensitivity analysis\n",
    "print(\"Values of nminthreshold to be tested: \", dictionaries.n_min_threshold_values)\n",
    "n_min_threshold_values=dictionaries.n_min_threshold_values\n",
    "\n",
    "# Call the sensitivity analysis function\n",
    "functions.perform_sensitivity_analysis(tb, savedir, parameters_features, parameters_segmentation, parameters_linking, n_min_threshold_values)"
   ]
  },
  {
   "cell_type": "code",
   "execution_count": null,
   "metadata": {},
   "outputs": [],
   "source": [
    "df = pd.read_csv('Save/Jan_1998/n_min_threshold/sensitivity_analysis_nminthreshold.csv')"
   ]
  },
  {
   "cell_type": "code",
   "execution_count": null,
   "metadata": {},
   "outputs": [],
   "source": [
    "df"
   ]
  },
  {
   "cell_type": "code",
   "execution_count": null,
   "metadata": {},
   "outputs": [],
   "source": [
    "#plot of initiation time of MCSs \n",
    "import seaborn as sns \n",
    "sns.set(font_scale=1.2)\n",
    "\n",
    "plt.figure(figsize=(24,14))\n",
    "f= 20\n",
    "lf= 15\n",
    "\n",
    "xticks=[2400,20000,30000,40000,50000]\n",
    "ax1=plt.subplot(2,3,(1,4))\n",
    "ax1.set_title('a) Total track number ', loc='left', fontsize= f )\n",
    "ax1.plot(df['n_min_threshold']*4.5**2,df['num_tracks'],linewidth=3)\n",
    "ax1.set_xticks(xticks)\n",
    "ax1.set_ylabel('no. MCS tracks (01-01-1998 - 08-01-1998)')\n",
    "ax1.set_xlabel('minimum area threshold (km$^{2}$)')\n",
    "\n",
    "ax2=plt.subplot(2,3,2)\n",
    "ax2.set_title('b) Detected features ', loc='left', fontsize= f )\n",
    "ax2.plot(df['n_min_threshold']*4.5**2,df['num_features'],linewidth=3)\n",
    "ax2.set_xticks(xticks)\n",
    "ax2.set_ylabel('no. detected features (01-01-1998 - 08-01-1998)')\n",
    "ax2.set_xlabel('minimum area threshold (km$^{2}$)')\n",
    "\n",
    "ax3=plt.subplot(2,3,3)\n",
    "ax3.set_title('c) Area ', loc='left', fontsize= f )\n",
    "ax3.plot(df['n_min_threshold']*4.5**2,df['mean_area'],linewidth=3)\n",
    "ax3.set_xticks(xticks)\n",
    "ax3.set_ylabel('mean MCS area (km$^{2}$)')\n",
    "ax3.set_xlabel('minimum area threshold (km$^{2}$)')\n",
    "\n",
    "ax4=plt.subplot(2,3,5)\n",
    "ax4.set_title('d) Lifetime ', loc='left', fontsize= f )\n",
    "ax4.plot(df['n_min_threshold']*4.5**2,df['mean_lifetime'],linewidth=3)\n",
    "ax4.set_xticks(xticks)\n",
    "ax4.set_ylabel('mean MCS lifetime (hrs)')\n",
    "ax4.set_xlabel('minimum area threshold (km$^{2}$)')\n",
    "\n",
    "ax5=plt.subplot(2,3,6)\n",
    "ax5.set_title('d) Velocity ', loc='left', fontsize= f )\n",
    "ax5.plot(df['n_min_threshold']*4.5**2,df['mean_velocity'],linewidth=3)\n",
    "ax5.set_xticks(xticks)\n",
    "ax5.set_ylabel('mean MCS velocity (m s$^{-1}$)')\n",
    "ax5.set_xlabel('minimum area threshold (km$^{2}$)')\n",
    "\n",
    "plt.savefig('Plot/Jan_1998/nminthreshold/nminthreshold_analysis.png')\n"
   ]
  },
  {
   "cell_type": "code",
   "execution_count": null,
   "metadata": {},
   "outputs": [],
   "source": []
  }
 ],
 "metadata": {
  "kernelspec": {
   "display_name": ".conda-myclone Python (Conda)",
   "language": "python",
   "name": "conda-env-.conda-myclone-py"
  },
  "language_info": {
   "codemirror_mode": {
    "name": "ipython",
    "version": 3
   },
   "file_extension": ".py",
   "mimetype": "text/x-python",
   "name": "python",
   "nbconvert_exporter": "python",
   "pygments_lexer": "ipython3",
   "version": "3.9.13"
  }
 },
 "nbformat": 4,
 "nbformat_minor": 4
}
